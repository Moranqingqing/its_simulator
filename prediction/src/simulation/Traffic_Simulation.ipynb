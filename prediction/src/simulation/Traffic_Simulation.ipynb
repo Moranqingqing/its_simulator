{
 "cells": [
  {
   "cell_type": "markdown",
   "metadata": {},
   "source": [
    "## Import Libraries"
   ]
  },
  {
   "cell_type": "code",
   "execution_count": null,
   "metadata": {},
   "outputs": [],
   "source": [
    "import os, sys\n",
    "import xml.etree.ElementTree as ET\n",
    "import matplotlib.pyplot as plt\n",
    "\n",
    "from src.congestion_mining.sumo_network import SUMONetwork\n",
    "from src.congestion_mining.sumo_data import *\n",
    "\n",
    "from src.simulation.configuration_files import *\n",
    "from src.simulation.demand import *\n",
    "from src.simulation.additional_files import AdditionalFile"
   ]
  },
  {
   "cell_type": "markdown",
   "metadata": {},
   "source": [
    "## SUMO Net\n",
    "\n",
    "The first step of running the sumo simulation is to build the sumo network using the SUMONetwork class from sumo_network.py. This class takes path and net_file as arguments.\n",
    "\n",
    "Note that this does not create a .net.xml file, it is assumed you have a net file. This code will help in defining parents of nodes to be used later when building the Dynamic Bayesian Network. \n",
    "\n",
    "#### Arguments:\n",
    "\n",
    "1. path: this variable represents the relative path on your computer where all of your files related to the simulation will be stored\n",
    "\n",
    "2. net_file: this is the name of the file which contains information about the network structure such as edges and nodes. This must be a net.xml file\n",
    "\n",
    "3. additional_files: this is another .xml file that gives the simulation some additional information such as where to save the output data, the output format, and the frequency with which to gather the data\n",
    "\n",
    "4. b: the beginning time of the simulation in seconds\n",
    "\n",
    "5. e: the end time of the simulation in seconds\n",
    "\n",
    "The cell below is an example. Insert your own path name and net file to begin."
   ]
  },
  {
   "cell_type": "code",
   "execution_count": null,
   "metadata": {},
   "outputs": [],
   "source": [
    "path=\"data/Sumo/huawei/simple/\"\n",
    "net_file=\"simple.net.xml\"\n",
    "additional_files=\"additional.add.xml\"\n",
    "b=\"0\"\n",
    "e=\"28800\""
   ]
  },
  {
   "cell_type": "code",
   "execution_count": null,
   "metadata": {},
   "outputs": [],
   "source": [
    "net = SUMONetwork(path, net_file)"
   ]
  },
  {
   "cell_type": "markdown",
   "metadata": {},
   "source": [
    "## Demand Profiles\n",
    "\n",
    "Once the network is defined, you will need to define the additional file and the type of demand you would like to create in the simulation."
   ]
  },
  {
   "cell_type": "markdown",
   "metadata": {},
   "source": [
    "## Additional File\n",
    "\n",
    "This step is crucial, as it tells sumo how to collect the data during simulation and where to save it.\n",
    "\n",
    "#### Arguments:\n",
    "\n",
    "1. id: type of data output\n",
    "2. file: name of folder/file where to save the output data of the simulation\n",
    "3. freq: frequency of data collection in seconds\n",
    "4. track vehicles: leave this as True\n",
    "\n",
    "The following code will first create the additional.add.xml file required for the simulation. You will need different additional files for each simulation so that you don't save over edge data with the latest run. This additional file code only needs to be run once, then you can manually modify the \"file\" attribute in the additional.add.xml file before each simulation run. Make sure the name of the additional file matches the additional_files variable you defined earlier."
   ]
  },
  {
   "cell_type": "code",
   "execution_count": null,
   "metadata": {},
   "outputs": [],
   "source": [
    "edgeData_attrib={\"id\": \"edge_output\",\n",
    "                 \"file\":'random_demand/edgeData.xml',\n",
    "                 \"freq\": \"300\",\n",
    "                 \"trackVehicles\": \"true\"}\n",
    "\n",
    "additional = AdditionalFile(net=net, edgeData_attrib=edgeData_attrib)"
   ]
  },
  {
   "cell_type": "markdown",
   "metadata": {},
   "source": [
    "## Route Files\n",
    "\n",
    "This step defines the demand profile which is used by duarouter in SUMO to create a .rou.xml route file. Of course, this step can be skipped if you already have your own route and trip files for your network."
   ]
  },
  {
   "cell_type": "markdown",
   "metadata": {},
   "source": [
    "### Random Demand\n",
    "\n",
    "Add random number of vehicles\n",
    "\n",
    "FringeFactor: how often a vehicle travels from one fringe of the network to another\n",
    "Period: how often to add a new vehicle to the network in seconds"
   ]
  },
  {
   "cell_type": "code",
   "execution_count": null,
   "metadata": {},
   "outputs": [],
   "source": [
    "random_demand = RandomDemand(net, b, e)\n",
    "random_demand.run(fringeFactor=\"1\", period=\"1.5\")"
   ]
  },
  {
   "cell_type": "markdown",
   "metadata": {},
   "source": [
    "### Static Demand\n",
    "\n",
    "Adds vehicles to maintain demand at a static value (numberModel)"
   ]
  },
  {
   "cell_type": "code",
   "execution_count": null,
   "metadata": {},
   "outputs": [],
   "source": [
    "static_demand = NetDemand(net, b, e, flow_model=\"static\", numberModel=3600)\n",
    "static_demand.run()"
   ]
  },
  {
   "cell_type": "markdown",
   "metadata": {},
   "source": [
    "### Linear Demand\n",
    "\n",
    "Maintain a specific demand value at specific times.\n",
    "\n",
    "For time=[0, 9600, 19200, 28800], numberModel=[2000, 3000] the model will have a demand of 2000 vehicles from 0s to 9600s, then it will increase linearly from 2000 to 3000 vehicles starting at 9600s to 19200s, then finally it will maintain a demand of 3000 vehicles from 19200s to 28800s."
   ]
  },
  {
   "cell_type": "code",
   "execution_count": null,
   "metadata": {},
   "outputs": [],
   "source": [
    "linear_demand = NetDemand(net, b, e, flow_model=\"linear\", time=[0, 9600, 19200, 28800], numberModel=[2000, 3000])\n",
    "linear_demand.run()"
   ]
  },
  {
   "cell_type": "markdown",
   "metadata": {},
   "source": [
    "### Wave Demand\n",
    "\n",
    "There is no exact science to defining the curve for the wave demand. So I have some code which will plot what the curve will look like. You can play around with the values of curve1 and curve2 until you find the profile that fits your desired parameters."
   ]
  },
  {
   "cell_type": "code",
   "execution_count": null,
   "metadata": {},
   "outputs": [],
   "source": [
    "def wave_depart(offset, curves, t):\n",
    "    v = offset\n",
    "    for c in curves:\n",
    "        dt = t - c[3]\n",
    "        v = v + \\\n",
    "            c[0] * math.sin(2 * math.pi * dt * c[2]) + \\\n",
    "            c[1] * math.cos(2 * math.pi * dt * c[2])\n",
    "        v = v / 3600.\n",
    "    return v"
   ]
  },
  {
   "cell_type": "code",
   "execution_count": null,
   "metadata": {},
   "outputs": [],
   "source": [
    "curve1 = [3000, 0, 0.0025, 0]\n",
    "curve2 = [4000, 0, 0.0001389, 0]\n",
    "\n",
    "wave_output = []\n",
    "for i in range(0, 7200):\n",
    "    v = wave_depart(0, [curve2], i)\n",
    "    wave_output.append(v)\n",
    "\n",
    "plt.figure(figsize=(15,5))\n",
    "plt.plot(wave_output)"
   ]
  },
  {
   "cell_type": "code",
   "execution_count": null,
   "metadata": {},
   "outputs": [],
   "source": [
    "curves = [[3000, 0, 0.0025, 0], [4000, 0, 0.00035, 0]]\n",
    "wave_demand = NetDemand(net, b, e, flow_model=\"wave\", offset=0, curves=curves)"
   ]
  },
  {
   "cell_type": "markdown",
   "metadata": {},
   "source": [
    "## SUMO Configuration File\n",
    "\n",
    "Once you have your .rou.xml files defined you can create a sumo configuration file to tell sumo which files to grab and other details about the simulation. This is the most important file, as it will be required to run the simulation for you automatically. Otherwise, you would need to find all the necessary files and add them in your SUMO session manually to run.\n",
    "\n",
    "Make sure route_file matches with the name of the route file created in the previous step."
   ]
  },
  {
   "cell_type": "code",
   "execution_count": null,
   "metadata": {},
   "outputs": [],
   "source": [
    "route_file=\"random.rou.xml\"\n",
    "\n",
    "SimulationConfig(net, route_file, additional_files, b, e).run()"
   ]
  },
  {
   "cell_type": "markdown",
   "metadata": {},
   "source": [
    "Once you have the net file, route file, additional files, and sumo configuration files you can run the simulation and gather your data."
   ]
  },
  {
   "cell_type": "markdown",
   "metadata": {},
   "source": [
    "## Next Step...\n",
    "\n",
    "See the Root Cause Congestion Analysis notebook for data processing, DBN creation, and querying!"
   ]
  }
 ],
 "metadata": {
  "kernelspec": {
   "display_name": "Python 3",
   "language": "python",
   "name": "python3"
  },
  "language_info": {
   "codemirror_mode": {
    "name": "ipython",
    "version": 3
   },
   "file_extension": ".py",
   "mimetype": "text/x-python",
   "name": "python",
   "nbconvert_exporter": "python",
   "pygments_lexer": "ipython3",
   "version": "3.7.3"
  }
 },
 "nbformat": 4,
 "nbformat_minor": 4
}
