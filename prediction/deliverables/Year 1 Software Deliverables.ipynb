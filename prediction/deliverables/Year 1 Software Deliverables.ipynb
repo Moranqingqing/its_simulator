{
 "cells": [
  {
   "cell_type": "markdown",
   "metadata": {},
   "source": [
    "# Year 1 Software Deliverables - SOW4"
   ]
  },
  {
   "cell_type": "markdown",
   "metadata": {},
   "source": [
    "## Required Libraries\n",
    "\n",
    "Install the require libraries by running the following command.\n",
    "PyTorch installation may be different depending on the setup, please refer to https://pytorch.org/get-started/locally/"
   ]
  },
  {
   "cell_type": "raw",
   "metadata": {},
   "source": [
    "pip install numpy scipy matplotlib ipython jupyter pandas sympy nose\n",
    "pip install -U scikit-learn\n",
    "pip install pmdarima\n",
    "pip install torch===1.6.0 torchvision===0.7.0 -f https://download.pytorch.org/whl/torch_stable.html\n",
    "pip install Fiona\n",
    "pip install -U pytest"
   ]
  },
  {
   "cell_type": "markdown",
   "metadata": {},
   "source": [
    "## Data\n",
    "\n",
    "Aimsun produced large sqlite database files that we decided not to upload to GitHub in order to keep installation compact. We instead include a pickle file of processed data in our TrafficData format."
   ]
  },
  {
   "cell_type": "code",
   "execution_count": 1,
   "metadata": {},
   "outputs": [],
   "source": [
    "import sys\n",
    "sys.path.insert(0, '../')"
   ]
  },
  {
   "cell_type": "code",
   "execution_count": 2,
   "metadata": {},
   "outputs": [],
   "source": [
    "import pickle\n",
    "from src.traffic_data.traffic_data import TrafficData\n",
    "\n",
    "with open('sample_data.pickle', 'rb') as f:\n",
    "    traffic_data = pickle.load(f)"
   ]
  },
  {
   "cell_type": "code",
   "execution_count": 3,
   "metadata": {},
   "outputs": [],
   "source": [
    "# split the data into 60% training, 20% validation, 20% testing\n",
    "traffic_data.split(val_pct=0.2, test_pct=0.2)"
   ]
  },
  {
   "cell_type": "markdown",
   "metadata": {},
   "source": [
    "## Prediction Models\n",
    "\n",
    "Refer to the source code documentation for the parameters of each model."
   ]
  },
  {
   "cell_type": "code",
   "execution_count": null,
   "metadata": {},
   "outputs": [],
   "source": [
    "# Constant\n",
    "from src.prediction_models.constant import ConstantPredictor\n",
    "model = ConstantPredictor(traffic_data, horizon=5)\n",
    "\n",
    "# ARIMA\n",
    "from src.prediction_models.arima import ARIMAPredictor\n",
    "model = ARIMAPredictor(traffic_data, horizon=5)\n",
    "\n",
    "# Ridge Regression\n",
    "from src.prediction_models.regression import RegressionPredictor\n",
    "model = RegressionPredictor(traffic_data, model_type='ridge', horizon=5)\n",
    "\n",
    "# Random Forest Regression\n",
    "model = RegressionPredictor(traffic_data, model_type='rf', horizon=5)\n",
    "\n",
    "# RNN (LSTM)\n",
    "from src.prediction_models.neural_nets.rnn.rnn import RNNPredictor\n",
    "model = RNNPredictor(traffic_data, hidden_size=32, batch_size=32, seq_len=3, model_type='lstm', max_epoch=5)"
   ]
  },
  {
   "cell_type": "code",
   "execution_count": null,
   "metadata": {},
   "outputs": [],
   "source": [
    "# train the model\n",
    "model.train()\n",
    "\n",
    "# evaluate the model on validation set\n",
    "true, predicted = model.evaluate('val')\n",
    "\n",
    "# evaluate the model on test set\n",
    "true, predicted = model.evaluate('test')"
   ]
  },
  {
   "cell_type": "markdown",
   "metadata": {},
   "source": [
    "## Evaluation Metrics"
   ]
  },
  {
   "cell_type": "code",
   "execution_count": null,
   "metadata": {},
   "outputs": [],
   "source": [
    "from src.metrics import *\n",
    "\n",
    "# Mean Absolute Error\n",
    "metric = MAEMetrics(true, predicted)\n",
    "error = metric.evaluate()\n",
    "\n",
    "# Mean Squared Error\n",
    "metric = MSEMetrics(true, predicted)\n",
    "error = metric.evaluate()"
   ]
  },
  {
   "cell_type": "code",
   "execution_count": null,
   "metadata": {},
   "outputs": [],
   "source": []
  }
 ],
 "metadata": {
  "kernelspec": {
   "display_name": "Python 3",
   "language": "python",
   "name": "python3"
  },
  "language_info": {
   "codemirror_mode": {
    "name": "ipython",
    "version": 3
   },
   "file_extension": ".py",
   "mimetype": "text/x-python",
   "name": "python",
   "nbconvert_exporter": "python",
   "pygments_lexer": "ipython3",
   "version": "3.8.3"
  }
 },
 "nbformat": 4,
 "nbformat_minor": 4
}
